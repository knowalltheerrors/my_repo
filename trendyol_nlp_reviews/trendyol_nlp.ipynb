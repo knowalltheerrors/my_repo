{
 "cells": [
  {
   "cell_type": "code",
   "execution_count": 1,
   "metadata": {},
   "outputs": [],
   "source": [
    "# Trend yol Scraping project\n",
    "import time \n",
    "from selenium import webdriver\n",
    "from selenium.webdriver.support.ui import WebDriverWait\n",
    "from bs4 import BeautifulSoup\n",
    "import pandas as pd\n",
    "\n",
    "option = webdriver.ChromeOptions()\n",
    "driver = webdriver.Chrome(options = option)\n",
    "\n",
    "driver.get('https://www.trendyol.com/ac-co-altinyildiz-classics/erkek-cekmeyen-pamuklu-kumas-slim-fit-dar-kesim-beyaz-kivrilmaz-polo-yaka-tisort-p-37206082/yorumlar?boutiqueId=61&merchantId=347')\n",
    "comments_new = []\n",
    "result = []\n",
    "\n",
    "button = driver.find_element(\"xpath\",'/html/body/div[1]/footer/div[3]/div/div/div/div/div/div[4]/button[1]')\n",
    "button.click()\n",
    "\n",
    "start_time = time.time()\n",
    "max_time = 20 # Zəhmət dolmazsa bu hissəyə istədyiniz saniyəni girin (Məsələn mən burda 20 saniyə girmişəm siz giridiyiniz saniyəyə uyğun olaraq scroll gedəcək, müvafiq elementlər yüklənəcək və sonda bütün datalar parse ediləcək)  \n",
    "soup = BeautifulSoup(driver.page_source,features='lxml')\n",
    "bottom = False\n",
    "a = 0\n",
    "\n",
    "while not bottom:\n",
    "    new_height  = int(driver.execute_script('return document.body.scrollHeight'))\n",
    "    driver.execute_script(f\"window.scrollTo(0, {a});\")   \n",
    "    if a > new_height:\n",
    "        bottom = True\n",
    "    a+=5\n",
    "    time.sleep(0.02)\n",
    "    elapsed_time = time.time() - start_time \n",
    "    if elapsed_time > max_time:\n",
    "        break\n",
    "\n",
    "soup = BeautifulSoup(driver.page_source,features='lxml')\n",
    "comments = soup.select('div.reviews-wrapper div.reviews')\n",
    "\n",
    "for x in comments:\n",
    "    comments_new.append(x.select('div.comment p')) \n",
    "\n",
    "colname = 'Comments'\n",
    "for j in comments_new:\n",
    "    for y in j:\n",
    "        html_string =''.join(y)\n",
    "        result.append(html_string)\n",
    "\n",
    "df = pd.DataFrame(data = result,columns=[colname])\n",
    "\n",
    "# Please print the the df in order to see the results \n",
    "            "
   ]
  },
  {
   "cell_type": "code",
   "execution_count": null,
   "metadata": {},
   "outputs": [],
   "source": [
    "df"
   ]
  }
 ],
 "metadata": {
  "kernelspec": {
   "display_name": "Python 3",
   "language": "python",
   "name": "python3"
  },
  "language_info": {
   "codemirror_mode": {
    "name": "ipython",
    "version": 3
   },
   "file_extension": ".py",
   "mimetype": "text/x-python",
   "name": "python",
   "nbconvert_exporter": "python",
   "pygments_lexer": "ipython3",
   "version": "3.11.1"
  },
  "orig_nbformat": 4
 },
 "nbformat": 4,
 "nbformat_minor": 2
}
